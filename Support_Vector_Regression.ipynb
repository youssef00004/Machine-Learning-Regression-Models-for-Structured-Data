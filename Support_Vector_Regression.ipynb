{
  "cells": [
    {
      "cell_type": "code",
      "execution_count": null,
      "metadata": {
        "colab": {
          "background_save": true
        },
        "id": "kf4FJKwcUupM",
        "outputId": "f710396d-71e8-4a7a-d1b2-6aea50b07d84"
      },
      "outputs": [
        {
          "name": "stdout",
          "output_type": "stream",
          "text": [
            "Best SVR Parameters: {'C': 100, 'gamma': 0.1}\n",
            "Best SVR Mean Squared Error: 0.2955374953232189\n",
            "Best SVR R-Squared: 0.7247510001882953\n",
            "Simplified submission file created at 'sample_submission.csv'\n"
          ]
        }
      ],
      "source": [
        "import pandas as pd\n",
        "from sklearn.preprocessing import LabelEncoder, StandardScaler\n",
        "from sklearn.model_selection import train_test_split, GridSearchCV\n",
        "from sklearn.svm import SVR\n",
        "from sklearn.metrics import mean_squared_error, r2_score\n",
        "\n",
        "# Load the dataset\n",
        "data = pd.read_csv('train.csv')\n",
        "data_test = pd.read_csv('test.csv')\n",
        "data_submission = pd.read_csv('sample_submission.csv')\n",
        "\n",
        "# Fill missing values\n",
        "# Fill X2 (numerical) with its mean\n",
        "data['X2'] = data['X2'].fillna(data['X2'].mean())\n",
        "data_test['X2'] = data_test['X2'].fillna(data['X2'].mean())\n",
        "# Fill X9 (categorical) with its mode\n",
        "data['X9'] = data['X9'].fillna(data['X9'].mode()[0])\n",
        "data_test['X9'] = data_test['X9'].fillna(data['X9'].mode()[0])\n",
        "\n",
        "# Encode categorical columns\n",
        "categorical_cols = data.select_dtypes(include=['object']).columns\n",
        "label_encoders = {}\n",
        "\n",
        "for col in categorical_cols:\n",
        "    le = LabelEncoder()\n",
        "    # Fit on combined data to handle unseen categories\n",
        "    combined_data = pd.concat([data[col], data_test[col]], axis=0)\n",
        "    le.fit(combined_data)\n",
        "    label_encoders[col] = le\n",
        "    data[col] = le.transform(data[col])\n",
        "    data_test[col] = le.transform(data_test[col])\n",
        "\n",
        "# Select relevant features (X6, X7, X11) and target variable (Y)\n",
        "selected_features = ['X6', 'X7', 'X11']\n",
        "X = data[selected_features]  # Features\n",
        "X_real_test = data_test[selected_features]  # Features\n",
        "y = data['Y']  # Target\n",
        "\n",
        "# Split the data into training and testing sets\n",
        "X_train, X_test, y_train, y_test = train_test_split(X, y, test_size=0.2, random_state=42)\n",
        "\n",
        "# Standardization for SVR\n",
        "scaler = StandardScaler()\n",
        "X_train_scaled = scaler.fit_transform(X_train)\n",
        "X_test_scaled = scaler.transform(X_test)\n",
        "X_real_test_scaled = scaler.transform(X_real_test)\n",
        "\n",
        "# Grid search for SVR hyperparameter tuning\n",
        "param_grid = {\n",
        "    'C': [0.1, 1, 10, 100],\n",
        "    'gamma': [0.001, 0.01, 0.1, 1, 'scale', 'auto']\n",
        "}\n",
        "\n",
        "grid_search = GridSearchCV(SVR(kernel='rbf'), param_grid, cv=5, scoring='r2')\n",
        "grid_search.fit(X_train_scaled, y_train)\n",
        "\n",
        "best_svr_model = grid_search.best_estimator_\n",
        "best_svr_predictions = best_svr_model.predict(X_test_scaled)\n",
        "best_svr_mse = mean_squared_error(y_test, best_svr_predictions)\n",
        "best_svr_r2 = r2_score(y_test, best_svr_predictions)\n",
        "\n",
        "# Display results\n",
        "print(f\"Best SVR Parameters: {grid_search.best_params_}\")\n",
        "print(f\"Best SVR Mean Squared Error: {best_svr_mse}\")\n",
        "print(f\"Best SVR R-Squared: {best_svr_r2}\")\n",
        "\n",
        "# Predict on the test dataset\n",
        "test_predictions_simple = best_svr_model.predict(X_real_test_scaled)\n",
        "simplified_submission = data_submission.copy()\n",
        "simplified_submission['Y'] = test_predictions_simple\n",
        "\n",
        "# Save the submission file\n",
        "simplified_submission.to_csv('sample_submission.csv', index=False)\n",
        "print(\"Simplified submission file created at 'sample_submission.csv'\")\n"
      ]
    }
  ],
  "metadata": {
    "colab": {
      "provenance": [],
      "authorship_tag": "ABX9TyOAI0je9s9ScDuDDbPBXo3C"
    },
    "kernelspec": {
      "display_name": "Python 3",
      "name": "python3"
    },
    "language_info": {
      "name": "python"
    }
  },
  "nbformat": 4,
  "nbformat_minor": 0
}