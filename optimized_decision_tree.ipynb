{
  "nbformat": 4,
  "nbformat_minor": 0,
  "metadata": {
    "colab": {
      "provenance": [],
      "authorship_tag": "ABX9TyMfX5ftooHaaxs5ynu6l0sG"
    },
    "kernelspec": {
      "name": "python3",
      "display_name": "Python 3"
    },
    "language_info": {
      "name": "python"
    }
  },
  "cells": [
    {
      "cell_type": "code",
      "execution_count": null,
      "metadata": {
        "id": "DsbQLFbu3PrN"
      },
      "outputs": [],
      "source": [
        "import numpy as np\n",
        "import pandas as pd\n",
        "from sklearn.impute import SimpleImputer\n",
        "from sklearn.compose import ColumnTransformer\n",
        "from sklearn.preprocessing import OneHotEncoder, StandardScaler\n",
        "from sklearn.model_selection import train_test_split\n",
        "from sklearn.metrics import mean_squared_error, r2_score\n",
        "\n",
        "# Load datasets\n",
        "dataset_train = pd.read_csv('train.csv')\n",
        "X_train = dataset_train.iloc[:, [1, 2, 3, 4, 5, 7, 8, 9, 10]].values\n",
        "y_train = dataset_train.iloc[:, -1].values\n",
        "\n",
        "dataset_test = pd.read_csv('test.csv')\n",
        "X_test = dataset_test.iloc[:, [1, 2, 3, 4, 5, 7, 8, 9, 10]].values\n",
        "\n",
        "# Impute missing values\n",
        "imputer_num = SimpleImputer(strategy='mean')\n",
        "X_train[:, [0]] = imputer_num.fit_transform(X_train[:, [0]])\n",
        "X_test[:, [0]] = imputer_num.transform(X_test[:, [0]])\n",
        "\n",
        "imputer_cat = SimpleImputer(strategy='most_frequent')\n",
        "X_train[:, [5]] = imputer_cat.fit_transform(X_train[:, [5]])\n",
        "X_test[:, [5]] = imputer_cat.transform(X_test[:, [5]])\n",
        "\n",
        "# Encode categorical features\n",
        "categorical_features = [1, 3, 6, 7, 8]\n",
        "ct = ColumnTransformer(\n",
        "    transformers=[('encoder', OneHotEncoder(sparse_output=False), categorical_features)],\n",
        "    remainder='passthrough'\n",
        ")\n",
        "X_train = ct.fit_transform(X_train)\n",
        "X_test = ct.transform(X_test)\n",
        "\n",
        "# Train-validation split\n",
        "X_train_split, X_valid, y_train_split, y_valid = train_test_split(X_train, y_train, test_size=0.2, random_state=42)\n"
      ]
    },
    {
      "cell_type": "code",
      "source": [
        "from sklearn.model_selection import GridSearchCV\n",
        "from sklearn.tree import DecisionTreeRegressor\n",
        "\n",
        "# Parameter grid\n",
        "param_grid_dt = {\n",
        "    'max_depth': [5, 10, 15, None],\n",
        "    'min_samples_split': [2, 5, 10],\n",
        "    'min_samples_leaf': [1, 2, 4]\n",
        "}\n",
        "\n",
        "# Grid search\n",
        "grid_search_dt = GridSearchCV(DecisionTreeRegressor(random_state=42), param_grid_dt, cv=3, scoring='neg_mean_squared_error', n_jobs=-1)\n",
        "grid_search_dt.fit(X_train_split, y_train_split)\n",
        "\n",
        "# Best model\n",
        "best_dt = grid_search_dt.best_estimator_\n",
        "y_valid_pred_dt = best_dt.predict(X_valid)\n",
        "\n",
        "# Metrics\n",
        "mse_valid_dt = mean_squared_error(y_valid, y_valid_pred_dt)\n",
        "r2_valid_dt = r2_score(y_valid, y_valid_pred_dt)\n",
        "\n",
        "print(\"Optimized Decision Tree - Validation MSE:\", mse_valid_dt)\n",
        "print(\"Optimized Decision Tree - Validation R² Score:\", r2_valid_dt)"
      ],
      "metadata": {
        "colab": {
          "base_uri": "https://localhost:8080/"
        },
        "id": "aP0nHjKkB3qP",
        "outputId": "d5ec6779-dadf-46b9-8143-542194f8bd5f"
      },
      "execution_count": null,
      "outputs": [
        {
          "output_type": "stream",
          "name": "stdout",
          "text": [
            "Optimized Decision Tree - Validation MSE: 0.2996927078801021\n",
            "Optimized Decision Tree - Validation R² Score: 0.7208810408146589\n"
          ]
        }
      ]
    }
  ]
}